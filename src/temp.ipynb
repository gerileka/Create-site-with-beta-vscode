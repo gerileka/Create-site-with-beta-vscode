{
 "cells": [
  {
   "cell_type": "code",
   "execution_count": 172,
   "metadata": {
    "ExecuteTime": {
     "end_time": "2022-01-29T11:15:09.306052Z",
     "start_time": "2022-01-29T11:15:09.192353Z"
    }
   },
   "outputs": [],
   "source": [
    "import requests\n",
    "from bs4 import BeautifulSoup\n",
    "from selenium import webdriver\n",
    "from selenium.webdriver.chrome.options import Options\n",
    "import time"
   ]
  },
  {
   "cell_type": "code",
   "execution_count": 185,
   "metadata": {
    "ExecuteTime": {
     "end_time": "2022-01-30T19:23:33.921912Z",
     "start_time": "2022-01-30T19:23:33.812915Z"
    }
   },
   "outputs": [],
   "source": []
  },
  {
   "cell_type": "code",
   "execution_count": 240,
   "metadata": {
    "ExecuteTime": {
     "end_time": "2022-01-30T21:32:48.419646Z",
     "start_time": "2022-01-30T21:32:48.395712Z"
    }
   },
   "outputs": [],
   "source": [
    "def getCollectionUrl(sleepSec:int):\n",
    "    \"\"\"\n",
    "    \n",
    "    \"\"\"\n",
    "    url = \"https://magiceden.io/collections\"\n",
    "    driver = webdriver.Chrome(\"../chromedriver/chromedriver\")\n",
    "    driver.get(url)\n",
    "    time.sleep(sleepSec)\n",
    "    prev_height = driver.execute_script('return document.body.scrollHeight')\n",
    "    while True:\n",
    "        driver.execute_script('window.scrollTo(0,document.body.scrollHeight);')\n",
    "        time.sleep(sleepSec)\n",
    "        new_height = driver.execute_script('return document.body.scrollHeight')\n",
    "        if new_height == prev_height:\n",
    "            break\n",
    "        prev_height = new_height\n",
    "    locContent = driver.page_source.split(\"p-0 text-center card collection-card me\")\n",
    "    locListUrl = []\n",
    "    for c_ in locContent[1:]:\n",
    "        locListUrl.append(\"https://magiceden.io\"+c_.split('href=\"')[1].split('\"><div class=')[0])\n",
    "    driver.quit()\n",
    "    return locListUrl"
   ]
  },
  {
   "cell_type": "code",
   "execution_count": 241,
   "metadata": {
    "ExecuteTime": {
     "end_time": "2022-01-30T21:33:56.479213Z",
     "start_time": "2022-01-30T21:32:48.761602Z"
    }
   },
   "outputs": [],
   "source": [
    "locListUrl = getCollectionUrl(3)"
   ]
  },
  {
   "cell_type": "code",
   "execution_count": 244,
   "metadata": {
    "ExecuteTime": {
     "end_time": "2022-01-30T23:54:41.725835Z",
     "start_time": "2022-01-30T23:54:23.731565Z"
    }
   },
   "outputs": [],
   "source": [
    "locTempUrl = locListUrl[0]\n",
    "driver = webdriver.Chrome(\"../chromedriver/chromedriver\")\n",
    "driver.get(locTempUrl)\n",
    "time.sleep(3)"
   ]
  },
  {
   "cell_type": "code",
   "execution_count": 243,
   "metadata": {
    "ExecuteTime": {
     "end_time": "2022-01-30T23:54:11.281619Z",
     "start_time": "2022-01-30T23:54:11.212629Z"
    }
   },
   "outputs": [
    {
     "data": {
      "text/plain": [
       "'https://magiceden.io/marketplace/parks'"
      ]
     },
     "execution_count": 243,
     "metadata": {},
     "output_type": "execute_result"
    }
   ],
   "source": [
    "locTempUrl"
   ]
  },
  {
   "cell_type": "code",
   "execution_count": 239,
   "metadata": {
    "ExecuteTime": {
     "end_time": "2022-01-30T21:32:45.135735Z",
     "start_time": "2022-01-30T21:32:45.124766Z"
    }
   },
   "outputs": [
    {
     "data": {
      "text/plain": [
       "True"
      ]
     },
     "execution_count": 239,
     "metadata": {},
     "output_type": "execute_result"
    }
   ],
   "source": [
    "\"https://magiceden.io//marketplace/parks\" ==locTempUrl"
   ]
  },
  {
   "cell_type": "code",
   "execution_count": null,
   "metadata": {},
   "outputs": [],
   "source": []
  }
 ],
 "metadata": {
  "interpreter": {
   "hash": "040f820100f499ce046bfe182e78dd96d6f0b27c252372f41ce26484a306a16b"
  },
  "kernelspec": {
   "display_name": "Python 3",
   "language": "python",
   "name": "python3"
  },
  "language_info": {
   "codemirror_mode": {
    "name": "ipython",
    "version": 3
   },
   "file_extension": ".py",
   "mimetype": "text/x-python",
   "name": "python",
   "nbconvert_exporter": "python",
   "pygments_lexer": "ipython3",
   "version": "3.7.3"
  },
  "latex_envs": {
   "LaTeX_envs_menu_present": true,
   "autoclose": false,
   "autocomplete": true,
   "bibliofile": "biblio.bib",
   "cite_by": "apalike",
   "current_citInitial": 1,
   "eqLabelWithNumbers": true,
   "eqNumInitial": 1,
   "hotkeys": {
    "equation": "Ctrl-E",
    "itemize": "Ctrl-I"
   },
   "labels_anchors": false,
   "latex_user_defs": false,
   "report_style_numbering": false,
   "user_envs_cfg": false
  }
 },
 "nbformat": 4,
 "nbformat_minor": 2
}
